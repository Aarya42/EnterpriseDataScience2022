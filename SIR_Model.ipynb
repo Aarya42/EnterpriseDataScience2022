{
 "cells": [
  {
   "cell_type": "markdown",
   "metadata": {},
   "source": [
    "# SIR Model for Germany"
   ]
  },
  {
   "cell_type": "markdown",
   "metadata": {},
   "source": [
    "Name: Aarya Sheakhar Yadav\n",
    "\n",
    "Matrikelnummer : 419347"
   ]
  },
  {
   "cell_type": "code",
   "execution_count": 1,
   "metadata": {},
   "outputs": [],
   "source": [
    "import pandas as pd\n",
    "import numpy as np\n",
    "\n",
    "import dash\n",
    "dash.__version__\n",
    "from dash import dcc\n",
    "from dash import html\n",
    "from dash.dependencies import Input, Output,State\n",
    "import plotly.graph_objects as go\n",
    "from scipy import optimize\n",
    "from scipy import integrate\n",
    "\n",
    "import os\n",
    "\n",
    "from ipynb.fs.full.SIR_helpers import SIR_modelling, SIR_model_t, fit_odeint"
   ]
  },
  {
   "cell_type": "code",
   "execution_count": 2,
   "metadata": {},
   "outputs": [],
   "source": [
    "df_analyse = pd.read_csv('../data/processed/COVID_final_set.csv', sep = ';')"
   ]
  },
  {
   "cell_type": "code",
   "execution_count": 3,
   "metadata": {},
   "outputs": [],
   "source": [
    "\n",
    "fig = go.Figure()\n",
    "app = dash.Dash()\n",
    "app.layout = html.Div([\n",
    "\n",
    "    dcc.Markdown('''\n",
    "\n",
    "    # SIR model for Germany\n",
    "\n",
    "    '''),\n",
    "\n",
    "\n",
    "    dcc.Dropdown(\n",
    "        id = 'country_drop_down',\n",
    "        options=[ {'label': each,'value':each} for each in df_analyse['country'].unique()],\n",
    "        value= 'Germany', # which are pre-selected\n",
    "        multi=False),\n",
    "\n",
    "    dcc.Graph(figure = fig, id = 'SIR_graph')\n",
    "    ])"
   ]
  },
  {
   "cell_type": "code",
   "execution_count": 4,
   "metadata": {},
   "outputs": [],
   "source": [
    "\n",
    "def SIR(countries):\n",
    "\n",
    "    SIR_modelling()\n"
   ]
  },
  {
   "cell_type": "code",
   "execution_count": 5,
   "metadata": {},
   "outputs": [],
   "source": [
    "\n",
    "@app.callback(\n",
    "    Output('SIR_graph', 'figure'),\n",
    "    [Input('country_drop_down', 'value')])\n",
    "\n",
    "def update_SIR_figure(country_drop_down):\n",
    "\n",
    "    traces = []\n",
    "\n",
    "    df_plot = df_analyse[df_analyse['country'] == country_drop_down]\n",
    "    df_plot = df_plot[['state', 'country', 'confirmed', 'date']].groupby(['country', 'date']).agg(np.sum).reset_index()\n",
    "    df_plot.sort_values('date', ascending = True).head()\n",
    "    df_plot = df_plot.confirmed[35:]\n",
    "\n",
    "    t, fitted = SIR_modelling(df_plot)\n",
    "\n",
    "    traces.append(dict (x = t,\n",
    "                        y = fitted,\n",
    "                        mode = 'markers',\n",
    "                        opacity = 0.9,\n",
    "                        name = 'SIR-fit')\n",
    "                  )\n",
    "\n",
    "    traces.append(dict (x = t,\n",
    "                        y = df_plot,\n",
    "                        mode = 'lines',\n",
    "                        opacity = 0.9,\n",
    "                        name = 'Real data')\n",
    "                  )\n",
    "\n",
    "    return {\n",
    "            'data': traces,\n",
    "            'layout': dict (\n",
    "                width=1280,\n",
    "                height=720,\n",
    "                title = 'SIR model fitting for COVID-19 data',\n",
    "\n",
    "                xaxis= {'title':'Days',\n",
    "                       'tickangle':-45,\n",
    "                        'nticks':20,\n",
    "                        'tickfont':dict(size=14,color=\"#7f7f7f\"),\n",
    "                      },\n",
    "\n",
    "                yaxis={'title': \"Infected population\"}\n",
    "        )\n",
    "    }\n"
   ]
  },
  {
   "cell_type": "code",
   "execution_count": 6,
   "metadata": {},
   "outputs": [
    {
     "name": "stdout",
     "output_type": "stream",
     "text": [
      "Dash is running on http://127.0.0.1:8050/\n",
      "\n",
      " * Serving Flask app \"__main__\" (lazy loading)\n",
      " * Environment: production\n",
      "   WARNING: This is a development server. Do not use it in a production deployment.\n",
      "   Use a production WSGI server instead.\n",
      " * Debug mode: on\n"
     ]
    },
    {
     "name": "stderr",
     "output_type": "stream",
     "text": [
      "C:\\Users\\hp\\anaconda3\\lib\\site-packages\\scipy\\integrate\\odepack.py:247: ODEintWarning:\n",
      "\n",
      "Excess work done on this call (perhaps wrong Dfun type). Run with full_output = 1 to get quantitative information.\n",
      "\n",
      "E:\\DOCUMENTS\\EDS\\notebooks\\SIR_helpers.ipynb:63: RuntimeWarning:\n",
      "\n",
      "overflow encountered in double_scalars\n",
      "\n",
      "E:\\DOCUMENTS\\EDS\\notebooks\\SIR_helpers.ipynb:64: RuntimeWarning:\n",
      "\n",
      "overflow encountered in double_scalars\n",
      "\n",
      "E:\\DOCUMENTS\\EDS\\notebooks\\SIR_helpers.ipynb:65: RuntimeWarning:\n",
      "\n",
      "overflow encountered in double_scalars\n",
      "\n",
      "C:\\Users\\hp\\anaconda3\\lib\\site-packages\\scipy\\integrate\\odepack.py:247: ODEintWarning:\n",
      "\n",
      "Illegal input detected (internal error). Run with full_output = 1 to get quantitative information.\n",
      "\n"
     ]
    },
    {
     "name": "stdout",
     "output_type": "stream",
     "text": [
      "standard deviation errors :  [1.18470243e-04 6.03166363e-05]  start infect: 21.0\n",
      "Optimal parameters: beta = 0.015463367947782948  and gamma =  -0.004861794338783154\n",
      "standard deviation errors :  [1.18470243e-04 6.03166363e-05]  start infect: 21.0\n",
      "Optimal parameters: beta = 0.015463367947782948  and gamma =  -0.004861794338783154\n",
      "standard deviation errors :  [73.04234047 72.90576332]  start infect: 1.0\n",
      "Optimal parameters: beta = 1.005273466246028  and gamma =  0.9938970488729318\n"
     ]
    }
   ],
   "source": [
    "\n",
    "\n",
    "if __name__ == '__main__':\n",
    "    app.run_server(debug = True, use_reloader = False)\n"
   ]
  },
  {
   "cell_type": "code",
   "execution_count": null,
   "metadata": {},
   "outputs": [],
   "source": []
  },
  {
   "cell_type": "code",
   "execution_count": null,
   "metadata": {},
   "outputs": [],
   "source": []
  }
 ],
 "metadata": {
  "kernelspec": {
   "display_name": "Python 3",
   "language": "python",
   "name": "python3"
  },
  "language_info": {
   "codemirror_mode": {
    "name": "ipython",
    "version": 3
   },
   "file_extension": ".py",
   "mimetype": "text/x-python",
   "name": "python",
   "nbconvert_exporter": "python",
   "pygments_lexer": "ipython3",
   "version": "3.8.5"
  }
 },
 "nbformat": 4,
 "nbformat_minor": 4
}
